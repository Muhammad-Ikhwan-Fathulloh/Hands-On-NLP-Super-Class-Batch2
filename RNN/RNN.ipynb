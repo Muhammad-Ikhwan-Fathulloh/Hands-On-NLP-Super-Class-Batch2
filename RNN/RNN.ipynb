{
  "cells": [
    {
      "cell_type": "markdown",
      "metadata": {
        "id": "BHvLZmX9R_I1"
      },
      "source": [
        "# Recurrant Neural Network"
      ]
    },
    {
      "cell_type": "code",
      "execution_count": 1,
      "metadata": {
        "id": "C2j6uYi0Cudj"
      },
      "outputs": [],
      "source": [
        "# Import necessary libraries\n",
        "from io import open\n",
        "import glob\n",
        "import os\n",
        "import unicodedata\n",
        "import string\n",
        "import torch\n",
        "import torch.nn as nn\n",
        "import torch.nn.functional as F\n",
        "import random\n",
        "import time\n",
        "import math\n",
        "import matplotlib.pyplot as plt\n",
        "import matplotlib.ticker as ticker"
      ]
    },
    {
      "cell_type": "code",
      "execution_count": 2,
      "metadata": {
        "colab": {
          "base_uri": "https://localhost:8080/"
        },
        "id": "E6CxZS7XDwC_",
        "outputId": "7519420f-ad01-49f8-8b14-285e3de41a7d"
      },
      "outputs": [
        {
          "name": "stdout",
          "output_type": "stream",
          "text": [
            "Cloning into 'Hands-On-NLP-Super-Class-Batch1'...\n",
            "remote: Enumerating objects: 110, done.\u001b[K\n",
            "remote: Counting objects: 100% (110/110), done.\u001b[K\n",
            "remote: Compressing objects: 100% (84/84), done.\u001b[K\n",
            "remote: Total 110 (delta 34), reused 86 (delta 16), pack-reused 0 (from 0)\u001b[K\n",
            "Receiving objects: 100% (110/110), 2.78 MiB | 3.68 MiB/s, done.\n",
            "Resolving deltas: 100% (34/34), done.\n"
          ]
        }
      ],
      "source": [
        "# Clone the dataset from GitHub\n",
        "!git clone https://github.com/Muhammad-Ikhwan-Fathulloh/Hands-On-NLP-Super-Class-Batch1.git\n",
        "\n",
        "# Define path to data directory\n",
        "data_path = 'Hands-On-NLP-Super-Class-Batch1/RNN/data/names/*.txt'"
      ]
    },
    {
      "cell_type": "code",
      "execution_count": 3,
      "metadata": {
        "colab": {
          "base_uri": "https://localhost:8080/"
        },
        "id": "RLkE1fOGD5QU",
        "outputId": "b2ed4f6a-4326-406e-b8dd-64ec918eb807"
      },
      "outputs": [
        {
          "name": "stdout",
          "output_type": "stream",
          "text": [
            "['Hands-On-NLP-Super-Class-Batch1/RNN/data/names/Chinese.txt', 'Hands-On-NLP-Super-Class-Batch1/RNN/data/names/Czech.txt', 'Hands-On-NLP-Super-Class-Batch1/RNN/data/names/Irish.txt', 'Hands-On-NLP-Super-Class-Batch1/RNN/data/names/German.txt', 'Hands-On-NLP-Super-Class-Batch1/RNN/data/names/Japanese.txt', 'Hands-On-NLP-Super-Class-Batch1/RNN/data/names/Vietnamese.txt', 'Hands-On-NLP-Super-Class-Batch1/RNN/data/names/Russian.txt', 'Hands-On-NLP-Super-Class-Batch1/RNN/data/names/Greek.txt', 'Hands-On-NLP-Super-Class-Batch1/RNN/data/names/Polish.txt', 'Hands-On-NLP-Super-Class-Batch1/RNN/data/names/Portuguese.txt', 'Hands-On-NLP-Super-Class-Batch1/RNN/data/names/Arabic.txt', 'Hands-On-NLP-Super-Class-Batch1/RNN/data/names/Dutch.txt', 'Hands-On-NLP-Super-Class-Batch1/RNN/data/names/French.txt', 'Hands-On-NLP-Super-Class-Batch1/RNN/data/names/Italian.txt', 'Hands-On-NLP-Super-Class-Batch1/RNN/data/names/English.txt', 'Hands-On-NLP-Super-Class-Batch1/RNN/data/names/Spanish.txt', 'Hands-On-NLP-Super-Class-Batch1/RNN/data/names/Korean.txt', 'Hands-On-NLP-Super-Class-Batch1/RNN/data/names/Scottish.txt']\n",
            "Slusarski\n"
          ]
        }
      ],
      "source": [
        "# Function to find files in the dataset\n",
        "def findFiles(path):\n",
        "    return glob.glob(path)\n",
        "\n",
        "print(findFiles(data_path))\n",
        "\n",
        "all_letters = string.ascii_letters + \" .,;'\"\n",
        "n_letters = len(all_letters)\n",
        "\n",
        "# Turn a Unicode string to plain ASCII\n",
        "def unicodeToAscii(s):\n",
        "    return ''.join(\n",
        "        c for c in unicodedata.normalize('NFD', s)\n",
        "        if unicodedata.category(c) != 'Mn'\n",
        "        and c in all_letters\n",
        "    )\n",
        "\n",
        "print(unicodeToAscii('Ślusàrski'))"
      ]
    },
    {
      "cell_type": "code",
      "execution_count": 4,
      "metadata": {
        "colab": {
          "base_uri": "https://localhost:8080/"
        },
        "id": "E-WTRARcEC7Z",
        "outputId": "ff207920-3544-4ed6-defd-3117115a2c54"
      },
      "outputs": [
        {
          "name": "stdout",
          "output_type": "stream",
          "text": [
            "tensor([[0., 0., 0., 0., 0., 0., 0., 0., 0., 0., 0., 0., 0., 0., 0., 0., 0., 0.,\n",
            "         0., 0., 0., 0., 0., 0., 0., 0., 0., 0., 0., 0., 0., 0., 0., 0., 0., 1.,\n",
            "         0., 0., 0., 0., 0., 0., 0., 0., 0., 0., 0., 0., 0., 0., 0., 0., 0., 0.,\n",
            "         0., 0., 0.]])\n",
            "torch.Size([5, 1, 57])\n"
          ]
        }
      ],
      "source": [
        "# Build the category_lines dictionary, a list of names per language\n",
        "category_lines = {}\n",
        "all_categories = []\n",
        "\n",
        "# Read a file and split into lines\n",
        "def readLines(filename):\n",
        "    lines = open(filename, encoding='utf-8').read().strip().split('\\n')\n",
        "    return [unicodeToAscii(line) for line in lines]\n",
        "\n",
        "for filename in findFiles(data_path):\n",
        "    category = os.path.splitext(os.path.basename(filename))[0]\n",
        "    all_categories.append(category)\n",
        "    lines = readLines(filename)\n",
        "    category_lines[category] = lines\n",
        "\n",
        "n_categories = len(all_categories)\n",
        "\n",
        "# Find letter index from all_letters\n",
        "def letterToIndex(letter):\n",
        "    return all_letters.find(letter)\n",
        "\n",
        "# Turn a letter into a <1 x n_letters> Tensor\n",
        "def letterToTensor(letter):\n",
        "    tensor = torch.zeros(1, n_letters)\n",
        "    tensor[0][letterToIndex(letter)] = 1\n",
        "    return tensor\n",
        "\n",
        "# Turn a line into a <line_length x 1 x n_letters>\n",
        "def lineToTensor(line):\n",
        "    tensor = torch.zeros(len(line), 1, n_letters)\n",
        "    for li, letter in enumerate(line):\n",
        "        tensor[li][0][letterToIndex(letter)] = 1\n",
        "    return tensor\n",
        "\n",
        "print(letterToTensor('J'))\n",
        "print(lineToTensor('Jones').size())"
      ]
    },
    {
      "cell_type": "code",
      "execution_count": 5,
      "metadata": {
        "colab": {
          "base_uri": "https://localhost:8080/"
        },
        "id": "vbqVIvK7EK17",
        "outputId": "afb6a9c7-25a4-4d11-fa8b-14b59e0e697a"
      },
      "outputs": [
        {
          "name": "stdout",
          "output_type": "stream",
          "text": [
            "tensor([[-2.8508, -3.1046, -2.8252, -2.9433, -2.8043, -2.9000, -3.0022, -2.9320,\n",
            "         -2.9127, -2.8298, -2.8687, -2.8900, -2.8792, -2.8391, -2.9134, -2.8085,\n",
            "         -2.7960, -2.9792]], grad_fn=<LogSoftmaxBackward0>)\n",
            "('Korean', 16)\n"
          ]
        }
      ],
      "source": [
        "# Define the RNN model\n",
        "class RNN(nn.Module):\n",
        "    def __init__(self, input_size, hidden_size, output_size):\n",
        "        super(RNN, self).__init__()\n",
        "        self.hidden_size = hidden_size\n",
        "        self.i2h = nn.Linear(input_size, hidden_size)\n",
        "        self.h2h = nn.Linear(hidden_size, hidden_size)\n",
        "        self.h2o = nn.Linear(hidden_size, output_size)\n",
        "        self.softmax = nn.LogSoftmax(dim=1)\n",
        "\n",
        "    def forward(self, input, hidden):\n",
        "        hidden = F.tanh(self.i2h(input) + self.h2h(hidden))\n",
        "        output = self.h2o(hidden)\n",
        "        output = self.softmax(output)\n",
        "        return output, hidden\n",
        "\n",
        "    def initHidden(self):\n",
        "        return torch.zeros(1, self.hidden_size)\n",
        "\n",
        "n_hidden = 128\n",
        "rnn = RNN(n_letters, n_hidden, n_categories)\n",
        "\n",
        "input = letterToTensor('A')\n",
        "hidden = torch.zeros(1, n_hidden)\n",
        "output, next_hidden = rnn(input, hidden)\n",
        "\n",
        "input = lineToTensor('Albert')\n",
        "hidden = torch.zeros(1, n_hidden)\n",
        "output, next_hidden = rnn(input[0], hidden)\n",
        "print(output)\n",
        "\n",
        "def categoryFromOutput(output):\n",
        "    top_n, top_i = output.topk(1)\n",
        "    category_i = top_i[0].item()\n",
        "    return all_categories[category_i], category_i\n",
        "\n",
        "print(categoryFromOutput(output))"
      ]
    },
    {
      "cell_type": "code",
      "execution_count": 6,
      "metadata": {
        "colab": {
          "base_uri": "https://localhost:8080/"
        },
        "id": "erivzC7zEbHC",
        "outputId": "bf7396cb-ad23-4d18-b80d-8b5fdb4d76eb"
      },
      "outputs": [
        {
          "name": "stdout",
          "output_type": "stream",
          "text": [
            "category = Scottish / line = Macdonald\n",
            "category = Italian / line = Nicolosi\n",
            "category = Chinese / line = Gwock\n",
            "category = Arabic / line = Kouri\n",
            "category = Czech / line = Antonowitsch\n",
            "category = Greek / line = Kaloxylos\n",
            "category = English / line = Wrightson\n",
            "category = Scottish / line = Miller\n",
            "category = English / line = Norbury\n",
            "category = Japanese / line = Morita\n",
            "5000 5% (0m 15s) 2.9117 Cavey / Arabic ✗ (French)\n",
            "10000 10% (0m 24s) 1.2628 Chin / Korean ✓\n",
            "15000 15% (0m 33s) 2.0882 Schmeling / Irish ✗ (German)\n",
            "20000 20% (0m 42s) 1.3664 Dubhshlaine / French ✗ (Irish)\n",
            "25000 25% (0m 50s) 1.1300 Assen / Dutch ✓\n",
            "30000 30% (0m 59s) 0.4356 Sokolof / Polish ✓\n",
            "35000 35% (1m 8s) 1.7651 Gebara / Japanese ✗ (Spanish)\n",
            "40000 40% (1m 17s) 0.3183 Apeldoorn / Dutch ✓\n",
            "45000 45% (1m 26s) 0.3412 O'Byrne / Irish ✓\n",
            "50000 50% (1m 35s) 0.0007 Fotopoulos / Greek ✓\n",
            "55000 55% (1m 43s) 0.6788 Marquerink / Dutch ✓\n",
            "60000 60% (1m 52s) 0.2687 Duong / Vietnamese ✓\n",
            "65000 65% (2m 1s) 1.1764 Lafrentz / German ✓\n",
            "70000 70% (2m 10s) 1.4192 Madden / English ✓\n",
            "75000 75% (2m 18s) 0.1417 Pho / Vietnamese ✓\n",
            "80000 80% (2m 27s) 1.6481 Durante / Italian ✗ (Spanish)\n",
            "85000 85% (2m 36s) 0.4768 Kieu / Vietnamese ✓\n",
            "90000 90% (2m 45s) 0.2428 Rodagh / Irish ✓\n",
            "95000 95% (2m 54s) 1.1547 Watt / English ✗ (Scottish)\n",
            "100000 100% (3m 3s) 0.2176 Vo / Vietnamese ✓\n"
          ]
        }
      ],
      "source": [
        "def randomChoice(l):\n",
        "    return l[random.randint(0, len(l) - 1)]\n",
        "\n",
        "def randomTrainingExample():\n",
        "    category = randomChoice(all_categories)\n",
        "    line = randomChoice(category_lines[category])\n",
        "    category_tensor = torch.tensor([all_categories.index(category)], dtype=torch.long)\n",
        "    line_tensor = lineToTensor(line)\n",
        "    return category, line, category_tensor, line_tensor\n",
        "\n",
        "for i in range(10):\n",
        "    category, line, category_tensor, line_tensor = randomTrainingExample()\n",
        "    print('category =', category, '/ line =', line)\n",
        "\n",
        "criterion = nn.NLLLoss()\n",
        "learning_rate = 0.005\n",
        "\n",
        "def train(category_tensor, line_tensor):\n",
        "    hidden = rnn.initHidden()\n",
        "    rnn.zero_grad()\n",
        "    for i in range(line_tensor.size()[0]):\n",
        "        output, hidden = rnn(line_tensor[i], hidden)\n",
        "    loss = criterion(output, category_tensor)\n",
        "    loss.backward()\n",
        "    for p in rnn.parameters():\n",
        "        p.data.add_(p.grad.data, alpha=-learning_rate)\n",
        "    return output, loss.item()\n",
        "\n",
        "n_iters = 100000\n",
        "print_every = 5000\n",
        "plot_every = 1000\n",
        "current_loss = 0\n",
        "all_losses = []\n",
        "\n",
        "def timeSince(since):\n",
        "    now = time.time()\n",
        "    s = now - since\n",
        "    m = math.floor(s / 60)\n",
        "    s -= m * 60\n",
        "    return '%dm %ds' % (m, s)\n",
        "\n",
        "start = time.time()\n",
        "\n",
        "for iter in range(1, n_iters + 1):\n",
        "    category, line, category_tensor, line_tensor = randomTrainingExample()\n",
        "    output, loss = train(category_tensor, line_tensor)\n",
        "    current_loss += loss\n",
        "    if iter % print_every == 0:\n",
        "        guess, guess_i = categoryFromOutput(output)\n",
        "        correct = '✓' if guess == category else '✗ (%s)' % category\n",
        "        print('%d %d%% (%s) %.4f %s / %s %s' % (iter, iter / n_iters * 100, timeSince(start), loss, line, guess, correct))\n",
        "    if iter % plot_every == 0:\n",
        "        all_losses.append(current_loss / plot_every)\n",
        "        current_loss = 0"
      ]
    },
    {
      "cell_type": "code",
      "execution_count": 7,
      "metadata": {
        "colab": {
          "base_uri": "https://localhost:8080/",
          "height": 447
        },
        "id": "s1RpSMlcO-36",
        "outputId": "f8f036b7-827e-4b01-fe9b-cd2f87993042"
      },
      "outputs": [
        {
          "data": {
            "text/plain": [
              "[<matplotlib.lines.Line2D at 0x7b41fb23b8e0>]"
            ]
          },
          "execution_count": 7,
          "metadata": {},
          "output_type": "execute_result"
        },
        {
          "data": {
            "image/png": "[encoded data removed]",
            "text/plain": [
              "<Figure size 640x480 with 1 Axes>"
            ]
          },
          "metadata": {},
          "output_type": "display_data"
        }
      ],
      "source": [
        "plt.figure()\n",
        "plt.plot(all_losses)"
      ]
    },
    {
      "cell_type": "markdown",
      "metadata": {
        "id": "lDP2-Q7BRKgl"
      },
      "source": [
        "Dari grafik ini, terlihat bahwa nilai loss model menurun seiring bertambahnya jumlah epoch. Pada awal pelatihan, nilai loss tinggi, sekitar 2.75, namun secara bertahap menurun secara signifikan hingga di bawah 1.0 pada akhir pelatihan (sekitar epoch ke-100).\n",
        "\n"
      ]
    },
    {
      "cell_type": "code",
      "execution_count": 8,
      "metadata": {
        "id": "TciXHyY-P6Rk"
      },
      "outputs": [],
      "source": [
        "confusion = torch.zeros(n_categories, n_categories)\n",
        "n_confusion = 10000\n",
        "\n",
        "def evaluate(line_tensor):\n",
        "    hidden = rnn.initHidden()\n",
        "    for i in range(line_tensor.size()[0]):\n",
        "        output, hidden = rnn(line_tensor[i], hidden)\n",
        "    return output\n",
        "\n",
        "for i in range(n_confusion):\n",
        "    category, line, category_tensor, line_tensor = randomTrainingExample()\n",
        "    output = evaluate(line_tensor)\n",
        "    guess, guess_i = categoryFromOutput(output)\n",
        "    category_i = all_categories.index(category)\n",
        "    confusion[category_i][guess_i] += 1\n",
        "\n",
        "for i in range(n_categories):\n",
        "    confusion[i] = confusion[i] / confusion[i].sum()"
      ]
    },
    {
      "cell_type": "code",
      "execution_count": 9,
      "metadata": {
        "colab": {
          "base_uri": "https://localhost:8080/",
          "height": 595
        },
        "id": "zraQ8SjfP8pS",
        "outputId": "0241c5d9-7bee-49d4-931e-1678388e5e3c"
      },
      "outputs": [
        {
          "name": "stderr",
          "output_type": "stream",
          "text": [
            "<ipython-input-9-bdfa38b7f914>:5: UserWarning: set_ticklabels() should only be used with a fixed number of ticks, i.e. after set_ticks() or using a FixedLocator.\n",
            "  ax.set_xticklabels([''] + all_categories, rotation=90)\n",
            "<ipython-input-9-bdfa38b7f914>:6: UserWarning: set_ticklabels() should only be used with a fixed number of ticks, i.e. after set_ticks() or using a FixedLocator.\n",
            "  ax.set_yticklabels([''] + all_categories)\n"
          ]
        },
        {
          "data": {
            "image/png": "[encoded data removed]",
            "text/plain": [
              "<Figure size 640x480 with 2 Axes>"
            ]
          },
          "metadata": {},
          "output_type": "display_data"
        }
      ],
      "source": [
        "fig = plt.figure()\n",
        "ax = fig.add_subplot(111)\n",
        "cax = ax.matshow(confusion.numpy())\n",
        "fig.colorbar(cax)\n",
        "ax.set_xticklabels([''] + all_categories, rotation=90)\n",
        "ax.set_yticklabels([''] + all_categories)\n",
        "ax.xaxis.set_major_locator(ticker.MultipleLocator(1))\n",
        "ax.yaxis.set_major_locator(ticker.MultipleLocator(1))\n",
        "plt.show()"
      ]
    },
    {
      "cell_type": "code",
      "execution_count": 10,
      "metadata": {
        "colab": {
          "base_uri": "https://localhost:8080/"
        },
        "id": "WbcZGTxKEfon",
        "outputId": "59dc3336-1a2d-4805-91da-da9ad5dc180f"
      },
      "outputs": [
        {
          "name": "stdout",
          "output_type": "stream",
          "text": [
            "\n",
            "> Dovesky\n",
            "(-0.42) Russian\n",
            "(-1.23) Czech\n",
            "(-3.65) English\n",
            "None\n",
            "\n",
            "> Jackson\n",
            "(-0.30) Scottish\n",
            "(-1.96) English\n",
            "(-3.22) Czech\n",
            "None\n",
            "\n",
            "> Satoshi\n",
            "(-0.25) Japanese\n",
            "(-2.05) Arabic\n",
            "(-2.90) Italian\n",
            "None\n"
          ]
        }
      ],
      "source": [
        "def predict(input_line, n_predictions=3):\n",
        "    print('\\n> %s' % input_line)\n",
        "    with torch.no_grad():\n",
        "        output = evaluate(lineToTensor(input_line))\n",
        "        topv, topi = output.topk(n_predictions, 1, True)\n",
        "        predictions = []\n",
        "        for i in range(n_predictions):\n",
        "            value = topv[0][i].item()\n",
        "            category_index = topi[0][i].item()\n",
        "            print('(%.2f) %s' % (value, all_categories[category_index]))\n",
        "            predictions.append([value, all_categories[category_index]])\n",
        "\n",
        "print(predict('Dovesky'))\n",
        "print(predict('Jackson'))\n",
        "print(predict('Satoshi'))"
      ]
    },
    {
      "cell_type": "code",
      "execution_count": 11,
      "metadata": {
        "id": "SSI5YUsWEg0E"
      },
      "outputs": [],
      "source": [
        "torch.save(rnn.state_dict(), 'rnn.pt')"
      ]
    }
  ],
  "metadata": {
    "colab": {
      "provenance": []
    },
    "kernelspec": {
      "display_name": "Python 3.13.0 64-bit",
      "language": "python",
      "name": "python3"
    },
    "language_info": {
      "name": "python",
      "version": "3.13.0"
    },
    "vscode": {
      "interpreter": {
        "hash": "843c1de17762841d0e616048d4f068a5f973b47aad68285a698b9f96c05fe616"
      }
    }
  },
  "nbformat": 4,
  "nbformat_minor": 0
}
