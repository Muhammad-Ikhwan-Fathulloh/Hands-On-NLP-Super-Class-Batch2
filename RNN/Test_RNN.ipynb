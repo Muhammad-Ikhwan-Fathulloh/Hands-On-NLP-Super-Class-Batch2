{
  "cells": [
    {
      "cell_type": "markdown",
      "metadata": {
        "id": "D6N_uE9TafEt"
      },
      "source": [
        "# Test Model Recurrant Neural Network"
      ]
    },
    {
      "cell_type": "code",
      "execution_count": 1,
      "metadata": {
        "colab": {
          "base_uri": "https://localhost:8080/"
        },
        "id": "jIE4urF5S5PH",
        "outputId": "426b8ae9-0c31-43e6-d7d9-f7c3f9376544"
      },
      "outputs": [
        {
          "name": "stdout",
          "output_type": "stream",
          "text": [
            "Cloning into 'Hands-On-NLP-Super-Class-Batch1'...\n",
            "remote: Enumerating objects: 115, done.\u001b[K\n",
            "remote: Counting objects: 100% (115/115), done.\u001b[K\n",
            "remote: Compressing objects: 100% (86/86), done.\u001b[K\n",
            "remote: Total 115 (delta 36), reused 92 (delta 18), pack-reused 0 (from 0)\u001b[K\n",
            "Receiving objects: 100% (115/115), 2.88 MiB | 9.06 MiB/s, done.\n",
            "Resolving deltas: 100% (36/36), done.\n"
          ]
        }
      ],
      "source": [
        "# Step 1: Clone the GitHub repository\n",
        "!git clone https://github.com/Muhammad-Ikhwan-Fathulloh/Hands-On-NLP-Super-Class-Batch1.git"
      ]
    },
    {
      "cell_type": "code",
      "execution_count": 2,
      "metadata": {
        "id": "nI1I2JpSYuvt"
      },
      "outputs": [],
      "source": [
        "# Step 2: Import necessary libraries\n",
        "import torch\n",
        "import torch.nn as nn\n",
        "import string\n",
        "import unicodedata\n",
        "import os"
      ]
    },
    {
      "cell_type": "code",
      "execution_count": 3,
      "metadata": {
        "id": "bypV-_eDYyg3"
      },
      "outputs": [],
      "source": [
        "# Step 3: Set up model configurations\n",
        "all_letters = string.ascii_letters + \" .,;'\"\n",
        "n_letters = len(all_letters)\n",
        "\n",
        "# Define the path to the dataset in the cloned repo\n",
        "data_path = 'Hands-On-NLP-Super-Class-Batch1/RNN/data/names'\n",
        "all_categories = [os.path.splitext(filename)[0] for filename in os.listdir(data_path) if filename.endswith('.txt')]\n",
        "n_categories = len(all_categories)"
      ]
    },
    {
      "cell_type": "code",
      "execution_count": 4,
      "metadata": {
        "id": "S7trCbyuY6el"
      },
      "outputs": [],
      "source": [
        "# Define the RNN model\n",
        "class RNN(nn.Module):\n",
        "    def __init__(self, input_size, hidden_size, output_size):\n",
        "        super(RNN, self).__init__()\n",
        "        self.hidden_size = hidden_size\n",
        "        self.i2h = nn.Linear(input_size, hidden_size)\n",
        "        self.h2h = nn.Linear(hidden_size, hidden_size)\n",
        "        self.h2o = nn.Linear(hidden_size, output_size)\n",
        "        self.softmax = nn.LogSoftmax(dim=1)\n",
        "\n",
        "    def forward(self, input, hidden):\n",
        "        hidden = torch.tanh(self.i2h(input) + self.h2h(hidden))\n",
        "        output = self.h2o(hidden)\n",
        "        output = self.softmax(output)\n",
        "        return output, hidden\n",
        "\n",
        "    def initHidden(self):\n",
        "        return torch.zeros(1, self.hidden_size)"
      ]
    },
    {
      "cell_type": "code",
      "execution_count": 5,
      "metadata": {
        "colab": {
          "base_uri": "https://localhost:8080/"
        },
        "id": "ssWDsukVY-rI",
        "outputId": "04a67494-76d5-40bf-a472-385f07acde0b"
      },
      "outputs": [
        {
          "name": "stderr",
          "output_type": "stream",
          "text": [
            "<ipython-input-5-03e2b7cdaa43>:3: FutureWarning: You are using `torch.load` with `weights_only=False` (the current default value), which uses the default pickle module implicitly. It is possible to construct malicious pickle data which will execute arbitrary code during unpickling (See https://github.com/pytorch/pytorch/blob/main/SECURITY.md#untrusted-models for more details). In a future release, the default value for `weights_only` will be flipped to `True`. This limits the functions that could be executed during unpickling. Arbitrary objects will no longer be allowed to be loaded via this mode unless they are explicitly allowlisted by the user via `torch.serialization.add_safe_globals`. We recommend you start setting `weights_only=True` for any use case where you don't have full control of the loaded file. Please open an issue on GitHub for any issues related to this experimental feature.\n",
            "  rnn.load_state_dict(torch.load(\"Hands-On-NLP-Super-Class-Batch1/RNN/models/rnn.pt\"))\n"
          ]
        },
        {
          "data": {
            "text/plain": [
              "RNN(\n",
              "  (i2h): Linear(in_features=57, out_features=128, bias=True)\n",
              "  (h2h): Linear(in_features=128, out_features=128, bias=True)\n",
              "  (h2o): Linear(in_features=128, out_features=18, bias=True)\n",
              "  (softmax): LogSoftmax(dim=1)\n",
              ")"
            ]
          },
          "execution_count": 5,
          "metadata": {},
          "output_type": "execute_result"
        }
      ],
      "source": [
        "# Step 4: Load the trained model from the cloned repo\n",
        "rnn = RNN(n_letters, 128, n_categories)  # Use the hidden_size from training\n",
        "rnn.load_state_dict(torch.load(\"Hands-On-NLP-Super-Class-Batch1/RNN/models/rnn.pt\"))\n",
        "rnn.eval()"
      ]
    },
    {
      "cell_type": "code",
      "execution_count": 6,
      "metadata": {
        "id": "vPaTBa3dZDYN"
      },
      "outputs": [],
      "source": [
        "# Utility functions\n",
        "def unicodeToAscii(s):\n",
        "    return ''.join(\n",
        "        c for c in unicodedata.normalize('NFD', s)\n",
        "        if unicodedata.category(c) != 'Mn'\n",
        "        and c in all_letters\n",
        "    )\n",
        "\n",
        "def lineToTensor(line):\n",
        "    tensor = torch.zeros(len(line), 1, n_letters)\n",
        "    for li, letter in enumerate(line):\n",
        "        tensor[li][0][all_letters.find(letter)] = 1\n",
        "    return tensor\n",
        "\n",
        "def categoryFromOutput(output):\n",
        "    top_n, top_i = output.topk(1)\n",
        "    category_i = top_i[0].item()\n",
        "    return all_categories[category_i]\n",
        "\n",
        "def evaluate(line_tensor):\n",
        "    hidden = rnn.initHidden()\n",
        "    for i in range(line_tensor.size()[0]):\n",
        "        output, hidden = rnn(line_tensor[i], hidden)\n",
        "    return output"
      ]
    },
    {
      "cell_type": "code",
      "execution_count": 7,
      "metadata": {
        "id": "5jNwm3mFZGXZ"
      },
      "outputs": [],
      "source": [
        "# Prediction function\n",
        "def predict(name):\n",
        "    input_name = unicodeToAscii(name)\n",
        "    input_tensor = lineToTensor(input_name)\n",
        "    with torch.no_grad():\n",
        "        output = evaluate(input_tensor)\n",
        "        category = categoryFromOutput(output)\n",
        "        confidence = torch.exp(output.max()).item()\n",
        "    return {\"category\": category, \"confidence\": confidence}"
      ]
    },
    {
      "cell_type": "code",
      "execution_count": 21,
      "metadata": {
        "colab": {
          "base_uri": "https://localhost:8080/"
        },
        "id": "6s_kMaLhZH02",
        "outputId": "ac2b925a-57a0-4c6d-d035-1b76620d821f"
      },
      "outputs": [
        {
          "name": "stdout",
          "output_type": "stream",
          "text": [
            "Enter a name: ikhwan\n",
            "Predicted category: Russian\n",
            "Confidence: 0.3670042157173157\n"
          ]
        }
      ],
      "source": [
        "# Dynamic input from user\n",
        "name = input(\"Enter a name: \")\n",
        "prediction = predict(name)\n",
        "print(f\"Predicted category: {prediction['category']}\")\n",
        "print(f\"Confidence: {prediction['confidence']}\")"
      ]
    }
  ],
  "metadata": {
    "colab": {
      "provenance": []
    },
    "kernelspec": {
      "display_name": "Python 3.9.16 ('base')",
      "language": "python",
      "name": "python3"
    },
    "language_info": {
      "name": "python",
      "version": "3.9.16"
    },
    "vscode": {
      "interpreter": {
        "hash": "e4bf2d00b5bd40d978249ff1cc0531c21453119b882006f195adcde90ac0e4ea"
      }
    }
  },
  "nbformat": 4,
  "nbformat_minor": 0
}
